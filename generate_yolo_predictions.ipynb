{
 "cells": [
  {
   "cell_type": "code",
   "execution_count": 1,
   "metadata": {},
   "outputs": [],
   "source": [
    "import numpy as np\n",
    "import sys\n",
    "sys.path.append(\"..\")\n",
    "from utils.data_utils import *\n",
    "from ultralytics import YOLO\n",
    "from tqdm import tqdm\n",
    "from collections import Counter, defaultdict\n",
    "\n",
    "%load_ext autoreload\n",
    "%autoreload 2\n"
   ]
  },
  {
   "cell_type": "code",
   "execution_count": 10,
   "metadata": {},
   "outputs": [],
   "source": [
    "def generate_predictions(imgdir, model, dest_dir, conf_threshold = None, iou_nms_thresh=None, save_results = False):\n",
    "    results_dict = defaultdict(lambda: defaultdict(list))\n",
    "    c = 0\n",
    "    totals = []\n",
    "    for imgname in tqdm(os.listdir(imgdir)):\n",
    "        #if imgname != \"\":continue\n",
    "        imgpath = f\"{imgdir}/{imgname}\"\n",
    "        \n",
    "        img = np.array(Image.open(imgpath))\n",
    "        \n",
    "        imgw, imgw, _ = img.shape\n",
    "        \n",
    "        results = model(imgpath, imgsz=480, iou=iou_nms_thresh, verbose = False)\n",
    "\n",
    "        result = results[0]\n",
    "        \n",
    "        \n",
    "        #If no detections found\n",
    "        if len(result.boxes.cpu().numpy()) == 0:\n",
    "            results_dict[imgname]['bbox'] = []\n",
    "            results_dict[imgname]['scores'] = []\n",
    "            continue\n",
    "        \n",
    "        #Loop through the results\n",
    "        #for result in results:\n",
    "        \n",
    "        \n",
    "        boxes = result.boxes.cpu().numpy()\n",
    "        \n",
    "        for i, box in enumerate(boxes):\n",
    "            conf = box.conf[0]\n",
    "            \n",
    "            if conf < conf_threshold:# If conf < threshold\n",
    "                results_dict[imgname]['bbox'] = []\n",
    "                results_dict[imgname]['scores'] = []\n",
    "                continue\n",
    "                \n",
    "            bbox = box.xyxy[0].astype(int)\n",
    "            results_dict[imgname]['bbox'].append(bbox.tolist())\n",
    "            results_dict[imgname]['scores'].append(float(f\"{conf:.4f}\"))\n",
    "            print(results_dict)\n",
    "            \n",
    "        break    \n",
    "            \n",
    "    print(\"Total Images predicted on: \", len(results_dict))\n",
    "    if save_results:\n",
    "        dump_json(results_dict, f\"{dest_dir}/prediction_results.json\", indent = 1)\n",
    "    return results_dict\n",
    "\n",
    "    "
   ]
  },
  {
   "cell_type": "code",
   "execution_count": 11,
   "metadata": {},
   "outputs": [
    {
     "name": "stderr",
     "output_type": "stream",
     "text": [
      "  0%|          | 0/3250 [00:00<?, ?it/s]"
     ]
    },
    {
     "name": "stdout",
     "output_type": "stream",
     "text": [
      "defaultdict(<function generate_predictions.<locals>.<lambda> at 0x103d9b670>, {'scraped_Ms8t7O_1682825428474.jpg': defaultdict(<class 'list'>, {'bbox': [[254, 292, 759, 440]], 'scores': [0.8712]})})\n",
      "Total Images predicted on:  1\n"
     ]
    },
    {
     "name": "stderr",
     "output_type": "stream",
     "text": [
      "\n"
     ]
    }
   ],
   "source": [
    "iteration = \"v1_s\"\n",
    "save_results = True\n",
    "conf_threshold = 0.609\n",
    "iou_nms_thresh = 0.7\n",
    "\n",
    "dest_dir = f\"my_runs/lpblur/{iteration}/val/val_analysis_{str(iou_nms_thresh)}_{str(conf_threshold)}\"\n",
    "os.makedirs(dest_dir, exist_ok=True)\n",
    "\n",
    "names = {0: 'licenseplate'}\n",
    "#Load Model\n",
    "model = YOLO(f\"my_runs/lpblur/{iteration}/weights/best.pt\")\n",
    "\n",
    "imgdir = \"../datasets/LP_yolo_dataset/val/images\"\n",
    "\n",
    "\n",
    "results_dict = generate_predictions(imgdir, model,dest_dir, conf_threshold = conf_threshold, iou_nms_thresh=iou_nms_thresh, save_results = save_results)\n"
   ]
  },
  {
   "cell_type": "code",
   "execution_count": 42,
   "metadata": {},
   "outputs": [
    {
     "name": "stdout",
     "output_type": "stream",
     "text": [
      "[[254, 292, 759, 440]]\n"
     ]
    }
   ],
   "source": [
    "print(results_dict['scraped_Ms8t7O_1682825428474.jpg']['bbox'])"
   ]
  },
  {
   "cell_type": "code",
   "execution_count": null,
   "metadata": {},
   "outputs": [],
   "source": []
  }
 ],
 "metadata": {
  "kernelspec": {
   "display_name": "rtvan",
   "language": "python",
   "name": "python3"
  },
  "language_info": {
   "codemirror_mode": {
    "name": "ipython",
    "version": 3
   },
   "file_extension": ".py",
   "mimetype": "text/x-python",
   "name": "python",
   "nbconvert_exporter": "python",
   "pygments_lexer": "ipython3",
   "version": "3.8.10"
  },
  "orig_nbformat": 4
 },
 "nbformat": 4,
 "nbformat_minor": 2
}
