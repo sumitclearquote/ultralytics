{
 "cells": [
  {
   "cell_type": "code",
   "execution_count": 39,
   "metadata": {},
   "outputs": [
    {
     "name": "stdout",
     "output_type": "stream",
     "text": [
      "The autoreload extension is already loaded. To reload it, use:\n",
      "  %reload_ext autoreload\n"
     ]
    }
   ],
   "source": [
    "import numpy as np\n",
    "import sys\n",
    "sys.path.append(\"..\")\n",
    "from utils.data_utils import *\n",
    "from ultralytics import YOLO\n",
    "from tqdm import tqdm\n",
    "import imutils\n",
    "from collections import Counter, defaultdict\n",
    "\n",
    "%load_ext autoreload\n",
    "%autoreload 2\n"
   ]
  },
  {
   "cell_type": "code",
   "execution_count": 42,
   "metadata": {},
   "outputs": [],
   "source": [
    "def generate_predictions(imgdir, model, dest_dir, conf_threshold = None, iou_nms_thresh=None, save_results = False):\n",
    "    results_dict = defaultdict(lambda: defaultdict(list))\n",
    "    c = 0\n",
    "    totals = []\n",
    "    for imgname in tqdm(os.listdir(imgdir)):\n",
    "        if imgname != \"LLW9QtUWRvOnKAS0I9HvjA_file.jpeg\":continue\n",
    "        imgpath = f\"{imgdir}/{imgname}\"\n",
    "        \n",
    "        img = np.array(Image.open(imgpath))\n",
    "        img = imutils.resize(img, width = 1920)\n",
    "        \n",
    "        imgh, imgw, _ = img.shape\n",
    "        print(\"h, w: \", imgh, imgw)\n",
    "        results = model(img, imgsz=480, iou=iou_nms_thresh, verbose = False)\n",
    "\n",
    "        result = results[0]\n",
    "        \n",
    "        \n",
    "        #If no detections found\n",
    "        if len(result.boxes.cpu().numpy()) == 0:\n",
    "            results_dict[imgname]['bbox'] = []\n",
    "            results_dict[imgname]['scores'] = []\n",
    "            continue\n",
    "        \n",
    "        #Loop through the results\n",
    "        #for result in results:\n",
    "        \n",
    "        \n",
    "        boxes = result.boxes.cpu().numpy()\n",
    "        print(\"YOLO bboxes: \", boxes.xyxy)\n",
    "        print(\"YOLO confs: \", boxes.conf)\n",
    "        \n",
    "        for i, box in enumerate(boxes):\n",
    "            conf = box.conf[0]\n",
    "            \n",
    "            if conf < conf_threshold:# If conf < threshold\n",
    "                results_dict[imgname]['bbox'] = []\n",
    "                results_dict[imgname]['scores'] = []\n",
    "                continue\n",
    "                \n",
    "            bbox = box.xyxy[0].astype(int)\n",
    "            results_dict[imgname]['bbox'].append(bbox.tolist())\n",
    "            results_dict[imgname]['scores'].append(float(f\"{conf:.4f}\"))\n",
    "            print(results_dict)\n",
    "            \n",
    "        break    \n",
    "            \n",
    "    print(\"Total Images predicted on: \", len(results_dict))\n",
    "    if save_results:\n",
    "        dump_json(results_dict, f\"{dest_dir}/prediction_results.json\", indent = 1)\n",
    "    return results_dict\n",
    "\n",
    "    "
   ]
  },
  {
   "cell_type": "code",
   "execution_count": 43,
   "metadata": {},
   "outputs": [
    {
     "name": "stderr",
     "output_type": "stream",
     "text": [
      "  0%|          | 0/2204 [00:00<?, ?it/s]"
     ]
    },
    {
     "name": "stdout",
     "output_type": "stream",
     "text": [
      "h, w:  1440 1920\n"
     ]
    },
    {
     "name": "stderr",
     "output_type": "stream",
     "text": [
      " 83%|████████▎ | 1826/2204 [00:00<00:00, 3858.87it/s]"
     ]
    },
    {
     "name": "stdout",
     "output_type": "stream",
     "text": [
      "YOLO bboxes:  [[     685.83      735.04      1204.1      871.01]]\n",
      "YOLO confs:  [    0.83496]\n",
      "defaultdict(<function generate_predictions.<locals>.<lambda> at 0x10523ca60>, {'LLW9QtUWRvOnKAS0I9HvjA_file.jpeg': defaultdict(<class 'list'>, {'bbox': [[685, 735, 1204, 871]], 'scores': [0.835]})})\n",
      "Total Images predicted on:  1\n"
     ]
    },
    {
     "name": "stderr",
     "output_type": "stream",
     "text": [
      "\n"
     ]
    }
   ],
   "source": [
    "iteration = \"v3_m\"\n",
    "save_results = False\n",
    "conf_threshold = 0.1\n",
    "iou_nms_thresh = 0.7\n",
    "\n",
    "dest_dir = f\"my_runs/lpblur/{iteration}/val/val_analysis_{str(iou_nms_thresh)}_{str(conf_threshold)}\"\n",
    "os.makedirs(dest_dir, exist_ok=True)\n",
    "\n",
    "names = {0: 'licenseplate'}\n",
    "#Load Model\n",
    "model = YOLO(f\"my_runs/lpblur/{iteration}/weights/best.pt\")\n",
    "\n",
    "#imgdir = \"../datasets/LP_yolo_dataset/val/images\"\n",
    "imgdir = \"../datasets/audit_data\"\n",
    "\n",
    "results_dict = generate_predictions(imgdir, model,dest_dir, conf_threshold = conf_threshold, iou_nms_thresh=iou_nms_thresh, save_results = save_results)\n"
   ]
  },
  {
   "cell_type": "code",
   "execution_count": 31,
   "metadata": {},
   "outputs": [
    {
     "data": {
      "text/plain": [
       "1"
      ]
     },
     "execution_count": 31,
     "metadata": {},
     "output_type": "execute_result"
    }
   ],
   "source": [
    "c = np.array([0.80423])\n",
    "\n",
    "idx = np.where(c>0.80)[0]\n",
    "\n",
    "len(idx)"
   ]
  },
  {
   "cell_type": "code",
   "execution_count": 36,
   "metadata": {},
   "outputs": [
    {
     "ename": "ModuleNotFoundError",
     "evalue": "No module named 'imutils'",
     "output_type": "error",
     "traceback": [
      "\u001b[0;31m---------------------------------------------------------------------------\u001b[0m",
      "\u001b[0;31mModuleNotFoundError\u001b[0m                       Traceback (most recent call last)",
      "Cell \u001b[0;32mIn[36], line 1\u001b[0m\n\u001b[0;32m----> 1\u001b[0m \u001b[39mimport\u001b[39;00m \u001b[39mimutils\u001b[39;00m\n",
      "\u001b[0;31mModuleNotFoundError\u001b[0m: No module named 'imutils'"
     ]
    }
   ],
   "source": []
  },
  {
   "cell_type": "code",
   "execution_count": null,
   "metadata": {},
   "outputs": [],
   "source": []
  }
 ],
 "metadata": {
  "kernelspec": {
   "display_name": "rtvan",
   "language": "python",
   "name": "python3"
  },
  "language_info": {
   "codemirror_mode": {
    "name": "ipython",
    "version": 3
   },
   "file_extension": ".py",
   "mimetype": "text/x-python",
   "name": "python",
   "nbconvert_exporter": "python",
   "pygments_lexer": "ipython3",
   "version": "3.8.10"
  },
  "orig_nbformat": 4
 },
 "nbformat": 4,
 "nbformat_minor": 2
}
